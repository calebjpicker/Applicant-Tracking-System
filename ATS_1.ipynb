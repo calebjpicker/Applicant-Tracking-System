{
 "cells": [
  {
   "cell_type": "code",
   "execution_count": 4,
   "id": "8495fa9d",
   "metadata": {},
   "outputs": [
    {
     "name": "stdout",
     "output_type": "stream",
     "text": [
      "Defaulting to user installation because normal site-packages is not writeable\n",
      "Requirement already satisfied: docx2txt in c:\\users\\caleb\\appdata\\roaming\\python\\python39\\site-packages (0.8)\n",
      "Note: you may need to restart the kernel to use updated packages.\n"
     ]
    }
   ],
   "source": [
    "pip install docx2txt"
   ]
  },
  {
   "cell_type": "code",
   "execution_count": 5,
   "id": "c4231759",
   "metadata": {},
   "outputs": [],
   "source": [
    "import docx2txt\n",
    "from sklearn.metrics.pairwise import cosine_similarity\n",
    "from sklearn.feature_extraction.text import CountVectorizer\n"
   ]
  },
  {
   "cell_type": "code",
   "execution_count": 29,
   "id": "4f68b972",
   "metadata": {},
   "outputs": [],
   "source": [
    "# Load the applicant and job descriptions\n",
    "# Set filenames to resume and jd variables\n",
    "resumedocx_1 = \"Caleb Picker Resume draft 16 July 09 2023.docx\"\n",
    "resumedocx_2 = \"Caleb Picker Resume draft 18 July 09 2023.docx\"\n",
    "resumedocx_3 = \"Caleb Picker Resume draft 17 July 09 2023 - full.docx\"\n",
    "resumedocx_4 = \"Caleb Picker Resume draft 19 July 10 2023.docx\"\n",
    "\n",
    "# Load the files\n",
    "resume_1 = docx2txt.process(resumedocx_1)\n",
    "resume_2 = docx2txt.process(resumedocx_2)\n",
    "resume_3 = docx2txt.process(resumedocx_3)\n",
    "resume_4 = docx2txt.process(resumedocx_4)\n"
   ]
  },
  {
   "cell_type": "code",
   "execution_count": 30,
   "id": "8ff70ddd",
   "metadata": {},
   "outputs": [],
   "source": [
    "# IMport job description\n",
    "jddocx = \"Roles.docx\"\n",
    "jd = docx2txt.process(jddocx)\n"
   ]
  },
  {
   "cell_type": "code",
   "execution_count": 32,
   "id": "0f84d3de",
   "metadata": {},
   "outputs": [
    {
     "name": "stdout",
     "output_type": "stream",
     "text": [
      "Match: 83.75%\n",
      "Match: 84.52%\n",
      "Match: 84.77%\n",
      "Match: 85.02%\n"
     ]
    }
   ],
   "source": [
    "# List of text to store resume and job desription\n",
    "def count_matrix_fun(resume,jd):\n",
    "    text = [resume,jd]\n",
    "    # Count the number of words in the text matrix\n",
    "    cv = CountVectorizer()\n",
    "    count_matrix = cv.fit_transform(text)\n",
    "    # Calculate cosine similarity similar to percent match\n",
    "    match = cosine_similarity(count_matrix)[0][1]\n",
    "    match = (match + 1)/2*100\n",
    "    match = round(match,2)\n",
    "    print(f\"Match: {match}%\")\n",
    "\n",
    "resumes = [resume_1,resume_2,resume_3,resume_4]\n",
    "\n",
    "for i, resume_text in enumerate(resumes):\n",
    "    count_matrix_fun(resume_text,jd)"
   ]
  },
  {
   "cell_type": "code",
   "execution_count": 14,
   "id": "ebd1367f",
   "metadata": {},
   "outputs": [
    {
     "name": "stdout",
     "output_type": "stream",
     "text": [
      "appplication is accepted\n"
     ]
    }
   ],
   "source": [
    "if(match > 60):\n",
    "    print(\"appplication is accepted\")\n",
    "else: \n",
    "    print(\"application isrejected\")"
   ]
  }
 ],
 "metadata": {
  "kernelspec": {
   "display_name": "Python 3 (ipykernel)",
   "language": "python",
   "name": "python3"
  },
  "language_info": {
   "codemirror_mode": {
    "name": "ipython",
    "version": 3
   },
   "file_extension": ".py",
   "mimetype": "text/x-python",
   "name": "python",
   "nbconvert_exporter": "python",
   "pygments_lexer": "ipython3",
   "version": "3.9.13"
  }
 },
 "nbformat": 4,
 "nbformat_minor": 5
}
