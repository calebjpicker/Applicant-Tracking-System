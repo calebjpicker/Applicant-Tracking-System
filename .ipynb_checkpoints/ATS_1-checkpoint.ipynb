{
 "cells": [
  {
   "cell_type": "code",
   "execution_count": 60,
   "id": "c31bcbd3",
   "metadata": {},
   "outputs": [
    {
     "name": "stdout",
     "output_type": "stream",
     "text": [
      "Defaulting to user installation because normal site-packages is not writeable\n",
      "Requirement already satisfied: nltk in c:\\programdata\\anaconda3\\lib\\site-packages (3.5)\n",
      "Collecting nltk\n",
      "  Downloading nltk-3.8.1-py3-none-any.whl (1.5 MB)\n",
      "     ---------------------------------------- 1.5/1.5 MB 6.4 MB/s eta 0:00:00\n",
      "Requirement already satisfied: click in c:\\programdata\\anaconda3\\lib\\site-packages (from nltk) (8.0.4)\n",
      "Requirement already satisfied: tqdm in c:\\programdata\\anaconda3\\lib\\site-packages (from nltk) (4.64.1)\n",
      "Requirement already satisfied: regex>=2021.8.3 in c:\\programdata\\anaconda3\\lib\\site-packages (from nltk) (2022.7.9)\n",
      "Requirement already satisfied: joblib in c:\\programdata\\anaconda3\\lib\\site-packages (from nltk) (1.1.1)\n",
      "Requirement already satisfied: colorama in c:\\programdata\\anaconda3\\lib\\site-packages (from click->nltk) (0.4.5)\n",
      "Installing collected packages: nltk\n",
      "Successfully installed nltk-3.8.1\n",
      "Note: you may need to restart the kernel to use updated packages.\n"
     ]
    },
    {
     "name": "stderr",
     "output_type": "stream",
     "text": [
      "  WARNING: The script nltk.exe is installed in 'C:\\Users\\caleb\\AppData\\Roaming\\Python\\Python39\\Scripts' which is not on PATH.\n",
      "  Consider adding this directory to PATH or, if you prefer to suppress this warning, use --no-warn-script-location.\n"
     ]
    }
   ],
   "source": [
    "pip install nltk --upgrade"
   ]
  },
  {
   "cell_type": "code",
   "execution_count": 61,
   "id": "07e04597",
   "metadata": {},
   "outputs": [],
   "source": [
    "import docx2txt\n",
    "import nltk\n",
    "from nltk.corpus import stopwords\n",
    "from nltk.stem import PorterStemmer, WordNetLemmatizer\n",
    "from nltk.tokenize import word_tokenize\n",
    "from sklearn.metrics.pairwise import cosine_similarity\n",
    "from sklearn.feature_extraction.text import CountVectorizer\n"
   ]
  },
  {
   "cell_type": "code",
   "execution_count": 62,
   "id": "717e460c",
   "metadata": {},
   "outputs": [],
   "source": [
    "# Load the applicant and job descriptions\n",
    "# Set filenames to resume and jd variables\n",
    "resumedocx_1 = \"Caleb Picker Resume draft 16 July 09 2023.docx\"\n",
    "resumedocx_2 = \"Caleb Picker Resume draft 18 July 09 2023.docx\"\n",
    "resumedocx_3 = \"Caleb Picker Resume draft 17 July 09 2023 - full.docx\"\n",
    "resumedocx_4 = \"Caleb Picker Resume draft 19 July 10 2023.docx\"\n",
    "\n",
    "# Load the files\n",
    "resume_1 = docx2txt.process(resumedocx_1)\n",
    "resume_2 = docx2txt.process(resumedocx_2)\n",
    "resume_3 = docx2txt.process(resumedocx_3)\n",
    "resume_4 = docx2txt.process(resumedocx_4)\n"
   ]
  },
  {
   "cell_type": "code",
   "execution_count": 63,
   "id": "ae211f77",
   "metadata": {},
   "outputs": [],
   "source": [
    "# IMport job description\n",
    "jddocx = \"Roles.docx\"\n",
    "jd = docx2txt.process(jddocx)\n"
   ]
  },
  {
   "cell_type": "code",
   "execution_count": 64,
   "id": "5fbf4bb8",
   "metadata": {},
   "outputs": [
    {
     "name": "stderr",
     "output_type": "stream",
     "text": [
      "[nltk_data] Downloading package stopwords to\n",
      "[nltk_data]     C:\\Users\\caleb\\AppData\\Roaming\\nltk_data...\n",
      "[nltk_data]   Package stopwords is already up-to-date!\n",
      "[nltk_data] Downloading package punkt to\n",
      "[nltk_data]     C:\\Users\\caleb\\AppData\\Roaming\\nltk_data...\n",
      "[nltk_data]   Package punkt is already up-to-date!\n",
      "[nltk_data] Downloading package wordnet to\n",
      "[nltk_data]     C:\\Users\\caleb\\AppData\\Roaming\\nltk_data...\n",
      "[nltk_data]   Package wordnet is already up-to-date!\n"
     ]
    }
   ],
   "source": [
    "# Donwload NLTK resources\n",
    "nltk.download('stopwords')\n",
    "nltk.download('punkt')\n",
    "nltk.download('wordnet')\n",
    "\n",
    "# Initialize Stemmer and lemmatizer\n",
    "stemmer = PorterStemmer()\n",
    "lemmatizer = WordNetLemmatizer()\n",
    "\n",
    "# List of stopwords\n",
    "stopwords_set = set(stopwords.words('english'))"
   ]
  },
  {
   "cell_type": "code",
   "execution_count": 69,
   "id": "dcaa09c9",
   "metadata": {},
   "outputs": [],
   "source": [
    "# Pre Process Text\n",
    "def preprocess_text(text):\n",
    "    # Tokenize the text into individual words\n",
    "    tokens = word_tokenize(text)\n",
    "    \n",
    "    # Remove stopwords and perform stemming/lemmatization\n",
    "    processed_tokens = [stemmer.stem(lemmatizer.lemmatize(token)) for token in tokens if token.lower() not in stopwords_set]\n",
    "    \n",
    "    # Join the processed tokens back into a string\n",
    "    processed_text = ' '.join(processed_tokens)\n",
    "    \n",
    "    return processed_text"
   ]
  },
  {
   "cell_type": "code",
   "execution_count": 70,
   "id": "79b06b5d",
   "metadata": {},
   "outputs": [
    {
     "name": "stdout",
     "output_type": "stream",
     "text": [
      "Match: 67.74%\n",
      "Match: 68.99%\n",
      "Match: 66.78%\n",
      "Match: 71.04%\n"
     ]
    }
   ],
   "source": [
    "# List of text to store resume and job desription\n",
    "def count_matrix_fun(resume,jd):\n",
    "    # Preprocess resume and job description\n",
    "    processed_resume = preprocess_text(resume)\n",
    "    processed_jd = preprocess_text(jd)\n",
    "    \n",
    "    text = [processed_resume,processed_jd]\n",
    "    # Count the number of words in the text matrix\n",
    "    cv = CountVectorizer()\n",
    "    count_matrix = cv.fit_transform(text)\n",
    "    \n",
    "    # Calculate cosine similarity similar to percent match\n",
    "    cos_sim = cosine_similarity(count_matrix)[0][1]\n",
    "    match = (cos_sim + 1)/2*100\n",
    "    match = round(match,2)\n",
    "    print(f\"Match: {match}%\")\n",
    "\n",
    "resumes = [resume_1,resume_2,resume_3,resume_4]\n",
    "\n",
    "for i, resume_text in enumerate(resumes):\n",
    "    count_matrix_fun(resume_text,jd)"
   ]
  },
  {
   "cell_type": "code",
   "execution_count": null,
   "id": "bc785e45",
   "metadata": {},
   "outputs": [],
   "source": []
  }
 ],
 "metadata": {
  "kernelspec": {
   "display_name": "Python 3 (ipykernel)",
   "language": "python",
   "name": "python3"
  },
  "language_info": {
   "codemirror_mode": {
    "name": "ipython",
    "version": 3
   },
   "file_extension": ".py",
   "mimetype": "text/x-python",
   "name": "python",
   "nbconvert_exporter": "python",
   "pygments_lexer": "ipython3",
   "version": "3.9.13"
  }
 },
 "nbformat": 4,
 "nbformat_minor": 5
}
