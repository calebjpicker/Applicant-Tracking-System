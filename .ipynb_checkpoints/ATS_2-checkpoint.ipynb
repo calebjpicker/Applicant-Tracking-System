{
 "cells": [
  {
   "cell_type": "code",
   "execution_count": null,
   "id": "2272ea6d",
   "metadata": {},
   "outputs": [],
   "source": [
    "import docx2txt"
   ]
  },
  {
   "cell_type": "code",
   "execution_count": null,
   "id": "e05f751a",
   "metadata": {},
   "outputs": [],
   "source": [
    "# Load the applicant and job descriptions\n",
    "# Set filenames to resume and jd variables\n",
    "resumedocx = \"Caleb Picker Resume draft 16 July 09 2023.docx\"\n",
    "\n",
    "# Load the files\n",
    "resume = docx2txt.process(resumedocx)\n",
    "print(resume)\n"
   ]
  },
  {
   "cell_type": "code",
   "execution_count": 6,
   "id": "e8e6a0a0",
   "metadata": {},
   "outputs": [
    {
     "name": "stdout",
     "output_type": "stream",
     "text": [
      "['Python', 'Django']\n"
     ]
    },
    {
     "name": "stderr",
     "output_type": "stream",
     "text": [
      "[nltk_data] Downloading package stopwords to\n",
      "[nltk_data]     C:\\Users\\caleb\\AppData\\Roaming\\nltk_data...\n",
      "[nltk_data]   Package stopwords is already up-to-date!\n"
     ]
    }
   ],
   "source": [
    "import nltk\n",
    "from nltk.corpus import stopwords\n",
    "\n",
    "def extract_skills(resume_text, skills_list):\n",
    "    words = nltk.word_tokenize(resume_text)\n",
    "    \n",
    "    # remove stopwords\n",
    "    nltk.download('stopwords')\n",
    "\n",
    "    stop_words = set(stopwords.words('english'))\n",
    "    words = nltk.word_tokenize(resume_text)\n",
    "    # Now we're checking if a word is in our skills list instead of just not being a stop word\n",
    "    skills = [w for w in words if w in skills_list]\n",
    "\n",
    "    return skills\n",
    "\n",
    "resume_text = \"I am a Python developer with experience in Django and data analysis.\"\n",
    "\n",
    "# We define a list of skills that are relevant to the job\n",
    "skills_list = [\"Python\", \"Django\", \"data analysis\", \"JavaScript\", \"SQL\"]\n",
    "\n",
    "print(extract_skills(resume_text, skills_list))\n"
   ]
  },
  {
   "cell_type": "code",
   "execution_count": 7,
   "id": "62649d85",
   "metadata": {},
   "outputs": [
    {
     "name": "stdout",
     "output_type": "stream",
     "text": [
      "[]\n"
     ]
    }
   ],
   "source": [
    "import nltk\n",
    "\n",
    "def extract_entities(text):\n",
    "    words = nltk.word_tokenize(text)\n",
    "    tagged_words = nltk.pos_tag(words)\n",
    "    named_entities = nltk.ne_chunk(tagged_words)\n",
    "    entities = []\n",
    "    for t in named_entities.subtrees():\n",
    "        if t.label() == 'NE':\n",
    "            entities.append(' '.join([c[0] for c in t]))\n",
    "    return entities\n",
    "\n",
    "job_description = \"We are looking for a Python developer with experience in Django and data analysis.\"\n",
    "print(extract_entities(job_description))\n"
   ]
  },
  {
   "cell_type": "code",
   "execution_count": 9,
   "id": "148399b0",
   "metadata": {},
   "outputs": [
    {
     "name": "stdout",
     "output_type": "stream",
     "text": [
      "['a', 'Python', 'developer', 'with', 'experience', 'in', 'Django', 'and', 'data', 'analysis', '.']\n"
     ]
    },
    {
     "name": "stderr",
     "output_type": "stream",
     "text": [
      "[nltk_data] Downloading package stopwords to\n",
      "[nltk_data]     C:\\Users\\caleb\\AppData\\Roaming\\nltk_data...\n",
      "[nltk_data]   Package stopwords is already up-to-date!\n"
     ]
    }
   ],
   "source": [
    "print(extract_skills(resume_text,job_description))\n"
   ]
  },
  {
   "cell_type": "code",
   "execution_count": null,
   "id": "be75c31d",
   "metadata": {},
   "outputs": [],
   "source": []
  }
 ],
 "metadata": {
  "kernelspec": {
   "display_name": "Python 3 (ipykernel)",
   "language": "python",
   "name": "python3"
  },
  "language_info": {
   "codemirror_mode": {
    "name": "ipython",
    "version": 3
   },
   "file_extension": ".py",
   "mimetype": "text/x-python",
   "name": "python",
   "nbconvert_exporter": "python",
   "pygments_lexer": "ipython3",
   "version": "3.9.13"
  }
 },
 "nbformat": 4,
 "nbformat_minor": 5
}
